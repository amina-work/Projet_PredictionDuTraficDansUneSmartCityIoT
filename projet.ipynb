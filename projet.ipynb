{
 "cells": [
  {
   "cell_type": "code",
   "execution_count": 5,
   "metadata": {},
   "outputs": [],
   "source": [
    "import pandas as pd\n",
    "import matplotlib.pyplot as plt\n",
    "import numpy as np "
   ]
  },
  {
   "cell_type": "code",
   "execution_count": 6,
   "metadata": {},
   "outputs": [
    {
     "data": {
      "text/html": [
       "<div>\n",
       "<style scoped>\n",
       "    .dataframe tbody tr th:only-of-type {\n",
       "        vertical-align: middle;\n",
       "    }\n",
       "\n",
       "    .dataframe tbody tr th {\n",
       "        vertical-align: top;\n",
       "    }\n",
       "\n",
       "    .dataframe thead th {\n",
       "        text-align: right;\n",
       "    }\n",
       "</style>\n",
       "<table border=\"1\" class=\"dataframe\">\n",
       "  <thead>\n",
       "    <tr style=\"text-align: right;\">\n",
       "      <th></th>\n",
       "      <th>Junction</th>\n",
       "      <th>Vehicles</th>\n",
       "      <th>ID</th>\n",
       "    </tr>\n",
       "  </thead>\n",
       "  <tbody>\n",
       "    <tr>\n",
       "      <th>count</th>\n",
       "      <td>48120.000000</td>\n",
       "      <td>48120.000000</td>\n",
       "      <td>4.812000e+04</td>\n",
       "    </tr>\n",
       "    <tr>\n",
       "      <th>mean</th>\n",
       "      <td>2.180549</td>\n",
       "      <td>22.791334</td>\n",
       "      <td>2.016330e+10</td>\n",
       "    </tr>\n",
       "    <tr>\n",
       "      <th>std</th>\n",
       "      <td>0.966955</td>\n",
       "      <td>20.750063</td>\n",
       "      <td>5.944854e+06</td>\n",
       "    </tr>\n",
       "    <tr>\n",
       "      <th>min</th>\n",
       "      <td>1.000000</td>\n",
       "      <td>1.000000</td>\n",
       "      <td>2.015110e+10</td>\n",
       "    </tr>\n",
       "    <tr>\n",
       "      <th>25%</th>\n",
       "      <td>1.000000</td>\n",
       "      <td>9.000000</td>\n",
       "      <td>2.016042e+10</td>\n",
       "    </tr>\n",
       "    <tr>\n",
       "      <th>50%</th>\n",
       "      <td>2.000000</td>\n",
       "      <td>15.000000</td>\n",
       "      <td>2.016093e+10</td>\n",
       "    </tr>\n",
       "    <tr>\n",
       "      <th>75%</th>\n",
       "      <td>3.000000</td>\n",
       "      <td>29.000000</td>\n",
       "      <td>2.017023e+10</td>\n",
       "    </tr>\n",
       "    <tr>\n",
       "      <th>max</th>\n",
       "      <td>4.000000</td>\n",
       "      <td>180.000000</td>\n",
       "      <td>2.017063e+10</td>\n",
       "    </tr>\n",
       "  </tbody>\n",
       "</table>\n",
       "</div>"
      ],
      "text/plain": [
       "           Junction      Vehicles            ID\n",
       "count  48120.000000  48120.000000  4.812000e+04\n",
       "mean       2.180549     22.791334  2.016330e+10\n",
       "std        0.966955     20.750063  5.944854e+06\n",
       "min        1.000000      1.000000  2.015110e+10\n",
       "25%        1.000000      9.000000  2.016042e+10\n",
       "50%        2.000000     15.000000  2.016093e+10\n",
       "75%        3.000000     29.000000  2.017023e+10\n",
       "max        4.000000    180.000000  2.017063e+10"
      ]
     },
     "execution_count": 6,
     "metadata": {},
     "output_type": "execute_result"
    }
   ],
   "source": [
    "df = pd.read_csv(\"C:\\\\Users\\\\DrdrA\\\\OneDrive\\\\Desktop\\\\UNI\\\\M2\\\\Ca\\\\projet\\\\train_ML_IOT.csv\")\n",
    "df.describe()"
   ]
  },
  {
   "cell_type": "code",
   "execution_count": 7,
   "metadata": {},
   "outputs": [
    {
     "name": "stdout",
     "output_type": "stream",
     "text": [
      "DateTime    0\n",
      "Junction    0\n",
      "Vehicles    0\n",
      "ID          0\n",
      "dtype: int64\n"
     ]
    }
   ],
   "source": [
    "# Pretraitment\n",
    "\n",
    "#Etape1: Cleaning data\n",
    "#finding out missing values\n",
    "missing_values = df.isnull().sum()\n",
    "print(missing_values)"
   ]
  },
  {
   "cell_type": "code",
   "execution_count": 9,
   "metadata": {},
   "outputs": [
    {
     "name": "stdout",
     "output_type": "stream",
     "text": [
      "0        0.078212\n",
      "1        0.067039\n",
      "2        0.050279\n",
      "3        0.033520\n",
      "4        0.044693\n",
      "           ...   \n",
      "48115    0.055866\n",
      "48116    0.162011\n",
      "48117    0.083799\n",
      "48118    0.117318\n",
      "48119    0.061453\n",
      "Name: Normalized_Vehicles, Length: 48120, dtype: float64\n"
     ]
    }
   ],
   "source": [
    "#normilizing Vehicles column\n",
    "min_value = df['Vehicles'].min()\n",
    "max_value = df['Vehicles'].max()\n",
    "\n",
    "df['Normalized_Vehicles'] = (df['Vehicles'] - min_value) / (max_value - min_value)\n",
    "\n",
    "print(df['Normalized_Vehicles'])"
   ]
  },
  {
   "cell_type": "code",
   "execution_count": 14,
   "metadata": {},
   "outputs": [
    {
     "name": "stdout",
     "output_type": "stream",
     "text": [
      "                 DateTime  Junction  Vehicles           ID  \\\n",
      "120   2015-11-06 00:00:00         1        16  20151106001   \n",
      "121   2015-11-06 01:00:00         1        18  20151106011   \n",
      "122   2015-11-06 02:00:00         1        19  20151106021   \n",
      "123   2015-11-06 03:00:00         1        14  20151106031   \n",
      "124   2015-11-06 04:00:00         1        12  20151106041   \n",
      "...                   ...       ...       ...          ...   \n",
      "48115 2017-06-30 19:00:00         4        11  20170630194   \n",
      "48116 2017-06-30 20:00:00         4        30  20170630204   \n",
      "48117 2017-06-30 21:00:00         4        16  20170630214   \n",
      "48118 2017-06-30 22:00:00         4        22  20170630224   \n",
      "48119 2017-06-30 23:00:00         4        12  20170630234   \n",
      "\n",
      "       Normalized_Vehicles  Day_of_week  Is_weekend  \n",
      "120               0.083799            4        True  \n",
      "121               0.094972            4        True  \n",
      "122               0.100559            4        True  \n",
      "123               0.072626            4        True  \n",
      "124               0.061453            4        True  \n",
      "...                    ...          ...         ...  \n",
      "48115             0.055866            4        True  \n",
      "48116             0.162011            4        True  \n",
      "48117             0.083799            4        True  \n",
      "48118             0.117318            4        True  \n",
      "48119             0.061453            4        True  \n",
      "\n",
      "[13680 rows x 7 columns]\n"
     ]
    }
   ],
   "source": [
    "#Etape 3: transofmation\n",
    "df['DateTime'] = pd.to_datetime(df['DateTime'])\n",
    "\n",
    "#1 = dimanche, 2= 6 = samedi\n",
    "df['Day_of_week'] = df['DateTime'].dt.dayofweek\n",
    "\n",
    "sunday_offset = 6 - 0\n",
    "\n",
    "df['Is_weekend'] = df['Day_of_week'].isin([(sunday_offset - 2) % 7, (sunday_offset - 1) % 7])\n",
    "\n",
    "weekend_data = df[df['Is_weekend']]\n",
    "print(weekend_data)"
   ]
  },
  {
   "cell_type": "code",
   "execution_count": null,
   "metadata": {},
   "outputs": [],
   "source": [
    "#extraction des tendances\n",
    "\n"
   ]
  }
 ],
 "metadata": {
  "kernelspec": {
   "display_name": "Python 3",
   "language": "python",
   "name": "python3"
  },
  "language_info": {
   "codemirror_mode": {
    "name": "ipython",
    "version": 3
   },
   "file_extension": ".py",
   "mimetype": "text/x-python",
   "name": "python",
   "nbconvert_exporter": "python",
   "pygments_lexer": "ipython3",
   "version": "3.11.4"
  }
 },
 "nbformat": 4,
 "nbformat_minor": 2
}
